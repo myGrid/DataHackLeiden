{
 "metadata": {
  "name": ""
 },
 "nbformat": 3,
 "nbformat_minor": 0,
 "worksheets": [
  {
   "cells": [
    {
     "cell_type": "code",
     "collapsed": false,
     "input": [
      "from IPython.display import HTML"
     ],
     "language": "python",
     "metadata": {},
     "outputs": [],
     "prompt_number": 277
    },
    {
     "cell_type": "code",
     "collapsed": false,
     "input": [
      "import requests"
     ],
     "language": "python",
     "metadata": {},
     "outputs": [],
     "prompt_number": 278
    },
    {
     "cell_type": "code",
     "collapsed": false,
     "input": [
      "execfile('/Users/alanrw/work/sourcecode/python/leiden/DataHackLeiden/tavernaPlayerClient/TavernaPlayerClient.py')"
     ],
     "language": "python",
     "metadata": {},
     "outputs": [],
     "prompt_number": 279
    },
    {
     "cell_type": "code",
     "collapsed": false,
     "input": [
      "execfile('/Users/alanrw/work/sourcecode/python/leiden/DataHackLeiden/tavernaPlayerClient/Workflow.py')"
     ],
     "language": "python",
     "metadata": {},
     "outputs": [],
     "prompt_number": 280
    },
    {
     "cell_type": "code",
     "collapsed": false,
     "input": [
      "execfile('/Users/alanrw/work/sourcecode/python/leiden/DataHackLeiden/tavernaPlayerClient/RunTemplate.py')"
     ],
     "language": "python",
     "metadata": {},
     "outputs": [],
     "prompt_number": 281
    },
    {
     "cell_type": "code",
     "collapsed": false,
     "input": [
      "execfile('/Users/alanrw/work/sourcecode/python/leiden/DataHackLeiden/tavernaPlayerClient/Run.py')"
     ],
     "language": "python",
     "metadata": {},
     "outputs": [],
     "prompt_number": 282
    },
    {
     "cell_type": "code",
     "collapsed": false,
     "input": [
      "c2 = TavernaPlayerClient('http://dev.at.biovel.eu', 'player', 'player')"
     ],
     "language": "python",
     "metadata": {},
     "outputs": [],
     "prompt_number": 283
    },
    {
     "cell_type": "code",
     "collapsed": false,
     "input": [
      "workflows = c2.getWorkflows()"
     ],
     "language": "python",
     "metadata": {},
     "outputs": [],
     "prompt_number": 284
    },
    {
     "cell_type": "code",
     "collapsed": false,
     "input": [
      "for w in workflows:\n",
      "    print str(w.identifier) + ' = ' + w.title"
     ],
     "language": "python",
     "metadata": {},
     "outputs": [
      {
       "output_type": "stream",
       "stream": "stdout",
       "text": [
        "1 = Various output types\n",
        "2 = Ecological niche modelling workflow v20\n",
        "4 = Select Model For Me with components\n",
        "5 = Define with PartitionFinder, infer and validate Phylogeny - short run\n",
        "6 = Partitioning environmental sequencing data using categorical and phylogenetic information using PhyloH with parsing Qiime\n",
        "10 = Partitioning environmental sequencing data using categorical and phylogenetic information using PhyloH with parsing Qiime\n",
        "11 = A workflow\n",
        "12 = Partitioning environmental sequencing data using categorical and phylogenetic information using PhyloH with parsing Qiime\n",
        "13 = Bioclim workflow with interaction\n",
        "15 = A workflow\n",
        "16 = A workflow\n",
        "19 = BioVeL ESW DIFF - ENM Statistical Workflow with raster difference computation\n",
        "20 = BioVeL ESW STACK - ENM Statistical Workflow with raster stack computation\n",
        "21 = Data Refinement Workflow v13\n",
        "24 = Biome-BGC ESI Regulation, test & demo version 1.0\n",
        "25 = Define with PartitionFinder, infer and validate Phylogeny - short run\n",
        "31 = Biome-BGC CARBON test & demo version 1.0 annotated\n",
        "32 = Select Model For Me with components\n",
        "33 = Bioclim workflow with interaction\n",
        "36 = Phylogenetic Inference:Select Model For me- no component\n",
        "40 = Phylogenetic Inference:Select Model For me- no component no questions\n",
        "42 = Ecological niche modelling workflow v21\n",
        "43 = Ecological niche modelling workflow\n",
        "46 = [BETA] Data Refinement Workflow v14\n",
        "48 = Matrix Population Model analysis v10\n",
        "49 = WebDAV Component Test\n",
        "50 = A workflow\n",
        "52 = Multi-interaction\n",
        "53 = Partitioning environmental sequencing data using categorical and phylogenetic information using PhyloH with parsing Qiime\n",
        "54 = All File Lister using external tool\n",
        "56 = All File Lister using external tool\n",
        "57 = Ecological niche modelling workflow\n",
        "58 = Data Refinement Workflow v13\n",
        "59 = Biome-BGC SA test & demo version 1.0 annotated\n",
        "97 = A workflow\n",
        "98 = Biome-BGC MCE test & demo version 1.1 annotated\n",
        "103 = Data Refinement Workflow v14\n",
        "105 = A workflow\n",
        "107 = A workflow\n",
        "115 = Data Refinement Workflow v14\n",
        "117 = A workflow\n",
        "118 = Simple ask\n",
        "119 = BioVeL ESW STACK - ENM Statistical Workflow with raster stack computation\n",
        "120 = Retrieving FASTA format\n"
       ]
      }
     ],
     "prompt_number": 285
    },
    {
     "cell_type": "code",
     "collapsed": false,
     "input": [
      "t = filter(lambda x: x.identifier == 120, workflows)[0]"
     ],
     "language": "python",
     "metadata": {},
     "outputs": [],
     "prompt_number": 286
    },
    {
     "cell_type": "code",
     "collapsed": false,
     "input": [
      "print t.description"
     ],
     "language": "python",
     "metadata": {},
     "outputs": [
      {
       "output_type": "stream",
       "stream": "stdout",
       "text": [
        "A simple workflow for retrieving a protein sequence from a remote database.\n"
       ]
      }
     ],
     "prompt_number": 287
    },
    {
     "cell_type": "code",
     "collapsed": false,
     "input": [
      "r = t.getRunTemplate()"
     ],
     "language": "python",
     "metadata": {},
     "outputs": [],
     "prompt_number": 288
    },
    {
     "cell_type": "code",
     "collapsed": false,
     "input": [
      "print r.inputs"
     ],
     "language": "python",
     "metadata": {},
     "outputs": [
      {
       "output_type": "stream",
       "stream": "stdout",
       "text": [
        "{u'IN': u'P15409'}\n"
       ]
      }
     ],
     "prompt_number": 289
    },
    {
     "cell_type": "code",
     "collapsed": false,
     "input": [
      "o = t.run('For Stian', {'IN':'P56540'})"
     ],
     "language": "python",
     "metadata": {},
     "outputs": [
      {
       "html": [
        "<iframe src=\"http://dev.at.biovel.eu/runs/727?embedded=true\" width=1200px height=900px></iframe>"
       ],
       "metadata": {},
       "output_type": "display_data"
      }
     ],
     "prompt_number": 291
    },
    {
     "cell_type": "code",
     "collapsed": false,
     "input": [
      "print o"
     ],
     "language": "python",
     "metadata": {},
     "outputs": [
      {
       "output_type": "stream",
       "stream": "stdout",
       "text": [
        "{u'OUT': u'>gi|3182931|sp|P56540.1|CBBQ_ALLVI RecName: Full=Protein CbbQ\\nMSDIDRNQFLIDHEPYYRPVSNEVALYEAAYAARMPVMLKGPTGCGKTRFVEYMAWKLGKPLITVACNED\\nMTAS\\n\\n'}\n"
       ]
      }
     ],
     "prompt_number": 292
    },
    {
     "cell_type": "code",
     "collapsed": false,
     "input": [
      "print o['OUT']"
     ],
     "language": "python",
     "metadata": {},
     "outputs": [
      {
       "output_type": "stream",
       "stream": "stdout",
       "text": [
        ">gi|3182931|sp|P56540.1|CBBQ_ALLVI RecName: Full=Protein CbbQ\n",
        "MSDIDRNQFLIDHEPYYRPVSNEVALYEAAYAARMPVMLKGPTGCGKTRFVEYMAWKLGKPLITVACNED\n",
        "MTAS\n",
        "\n",
        "\n"
       ]
      }
     ],
     "prompt_number": 293
    },
    {
     "cell_type": "code",
     "collapsed": true,
     "input": [
      "pwd"
     ],
     "language": "python",
     "metadata": {},
     "outputs": [
      {
       "metadata": {},
       "output_type": "pyout",
       "prompt_number": 294,
       "text": [
        "u'C:\\\\Users\\\\alanrw'"
       ]
      }
     ],
     "prompt_number": 294
    },
    {
     "cell_type": "code",
     "collapsed": false,
     "input": [],
     "language": "python",
     "metadata": {},
     "outputs": []
    }
   ],
   "metadata": {}
  }
 ]
}