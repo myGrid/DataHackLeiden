{
 "metadata": {
  "name": "Untitled0"
 },
 "nbformat": 3,
 "nbformat_minor": 0,
 "worksheets": [
  {
   "cells": [
    {
     "cell_type": "code",
     "collapsed": false,
     "input": "from IPython.display import HTML\n\ninput_form = \"\"\"\n<div style=\"background-color:white; border:solid black; width:300px; padding:20px;\">\nUsername: <input placeholder=\"username\" type=\"text\" id=\"var_name\"><br>\nPassword: <input placeholder=\"password\" type=\"password\" id=\"var_pass\"><br>\n<button onclick=\"set_value()\">Set Username and Password</button>\n</div>\n\"\"\"\n\njavascript = \"\"\"\n<script type=\"text/Javascript\">\n    function set_value(){\n        var var_name = \"username\";\n        var var_pass = \"password\";\n        var value_name = document.getElementById('var_name').value;\n        var value_pass = document.getElementById('var_pass').value;\n        var command = var_name + \" , \" + var_pass + \" = '\" + value_name + \"' , '\" + value_pass + \"'\" \n        console.log(\"Executing Command: \" + command);\n\n        var kernel = IPython.notebook.kernel;\n        kernel.execute(command);\n    }\n</script>\n\"\"\"\nHTML(input_form + javascript)",
     "language": "python",
     "metadata": {},
     "outputs": [
      {
       "html": "\n<div style=\"background-color:white; border:solid black; width:300px; padding:20px;\">\nUsername: <input placeholder=\"username\" type=\"text\" id=\"var_name\"><br>\nPassword: <input placeholder=\"password\" type=\"password\" id=\"var_pass\"><br>\n<button onclick=\"set_value()\">Set Username and Password</button>\n</div>\n\n<script type=\"text/Javascript\">\n    function set_value(){\n        var var_bulk = \"bulk\";\n        var var_name = \"username\";\n        var var_pass = \"password\";\n        var value_name = document.getElementById('var_name').value;\n        var value_pass = document.getElementById('var_pass').value;\n        //var command = var_bulk + \" = '\" + value_name + \" - \" + value_pass + \"'\";\n        var command = var_name + \" , \" + var_pass + \" = '\" + value_name + \"' , '\" + value_pass + \"'\" \n        console.log(\"Executing Command: \" + command);\n                \n        var kernel = IPython.notebook.kernel;\n        kernel.execute(command);\n    }\n</script>\n",
       "metadata": {},
       "output_type": "pyout",
       "prompt_number": 19,
       "text": "<IPython.core.display.HTML at 0x1a86790>"
      }
     ],
     "prompt_number": 19
    },
    {
     "cell_type": "code",
     "collapsed": false,
     "input": "print username\nprint password",
     "language": "python",
     "metadata": {},
     "outputs": [
      {
       "output_type": "stream",
       "stream": "stdout",
       "text": "Youri\nMy Secret Pass\n"
      }
     ],
     "prompt_number": 22
    },
    {
     "cell_type": "code",
     "collapsed": false,
     "input": "",
     "language": "python",
     "metadata": {},
     "outputs": []
    }
   ],
   "metadata": {}
  }
 ]
}